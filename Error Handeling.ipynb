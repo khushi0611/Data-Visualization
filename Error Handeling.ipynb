{
 "cells": [
  {
   "cell_type": "markdown",
   "metadata": {},
   "source": [
    "# Error Handeling"
   ]
  },
  {
   "cell_type": "markdown",
   "metadata": {},
   "source": [
    "try-except block"
   ]
  },
  {
   "cell_type": "code",
   "execution_count": null,
   "metadata": {},
   "outputs": [],
   "source": [
    "try :\n",
    "    print(100/0)\n",
    "    open(\"ABC.txt\")\n",
    "except ZeroDivisionError as e:\n",
    "    print(e)"
   ]
  },
  {
   "cell_type": "markdown",
   "metadata": {},
   "source": [
    "try with multipe except"
   ]
  },
  {
   "cell_type": "code",
   "execution_count": null,
   "metadata": {},
   "outputs": [],
   "source": [
    "try :\n",
    "    print(100/5)\n",
    "    open(\"xyz.txt\")\n",
    "except ZeroDivisionError as e:\n",
    "    print(e)\n",
    "except FileNotFoundError:\n",
    "    print(\"File does not exist\")"
   ]
  },
  {
   "cell_type": "markdown",
   "metadata": {},
   "source": [
    "# Lab Assignment 5"
   ]
  },
  {
   "cell_type": "markdown",
   "metadata": {},
   "source": [
    "Write a Python program to handle a ZeroDivisionError exception when dividing a number by zero."
   ]
  },
  {
   "cell_type": "code",
   "execution_count": 5,
   "metadata": {},
   "outputs": [
    {
     "name": "stdout",
     "output_type": "stream",
     "text": [
      "division by zero\n"
     ]
    }
   ],
   "source": [
    "try :\n",
    "    x=int(input(\"enter x \"))\n",
    "    y=int(input(\"enter y \"))\n",
    "    z=x/y\n",
    "    print(f\"x/y = {z}\")\n",
    "\n",
    "except ZeroDivisionError as e:\n",
    "    print(e)"
   ]
  },
  {
   "cell_type": "markdown",
   "metadata": {},
   "source": [
    "Write a Python program that prompts the user to input an integer and raises a\n",
    "ValueError exception if the input is not a valid integer."
   ]
  },
  {
   "cell_type": "code",
   "execution_count": 2,
   "metadata": {},
   "outputs": [
    {
     "name": "stdout",
     "output_type": "stream",
     "text": [
      "invalid literal for int() with base 10: 'ert'\n"
     ]
    }
   ],
   "source": [
    "try :\n",
    "    x=int(input(\"enter x \"))\n",
    "    print(x)\n",
    "except ValueError as e:\n",
    "    print(e)"
   ]
  },
  {
   "cell_type": "markdown",
   "metadata": {},
   "source": [
    "Write a Python program that opens a file and handles a FileNotFoundError exception\n",
    "if the file does not exist."
   ]
  },
  {
   "cell_type": "code",
   "execution_count": 12,
   "metadata": {},
   "outputs": [
    {
     "name": "stdout",
     "output_type": "stream",
     "text": [
      "[Errno 2] No such file or directory: 'ABC.txt'\n"
     ]
    }
   ],
   "source": [
    "# lines=['Ensures safe file handling with automatic closure using with.\\n','Handles exceptions gracefully for missing files or other errors.\\n','Processes and prints each line without extra newline characters.']\n",
    "# with open('ABC.txt','w') as file:\n",
    "#   file.writelines(lines)\n",
    "\n",
    "try:\n",
    "    with open ('ABC.txt','r') as file:\n",
    "      for line in file:\n",
    "        print(line.strip())\n",
    "except FileNotFoundError as e:\n",
    "    print(e)"
   ]
  },
  {
   "cell_type": "markdown",
   "metadata": {},
   "source": [
    "Write a Python program that prompts the user to input two numbers and raises a\n",
    "TypeError exception if the inputs are not numerical"
   ]
  },
  {
   "cell_type": "code",
   "execution_count": 6,
   "metadata": {},
   "outputs": [
    {
     "name": "stdout",
     "output_type": "stream",
     "text": [
      "Invalid input: 't' is not a numerical value.\n"
     ]
    }
   ],
   "source": [
    "def get_number_input(prompt):\n",
    "    user_input = input(prompt)\n",
    "    try:\n",
    "        return float(user_input)\n",
    "    except ValueError:\n",
    "        raise TypeError(f\"Invalid input: '{user_input}' is not a numerical value.\")\n",
    "\n",
    "try:\n",
    "    num1 = get_number_input(\"Enter the first number: \")\n",
    "    num2 = get_number_input(\"Enter the second number: \")\n",
    "    print(f\"The numbers you entered are {num1} and {num2}.\")\n",
    "except TypeError as e:\n",
    "    print(e)"
   ]
  },
  {
   "cell_type": "markdown",
   "metadata": {},
   "source": [
    "### when multiple exception accurs"
   ]
  },
  {
   "cell_type": "code",
   "execution_count": 1,
   "metadata": {},
   "outputs": [
    {
     "name": "stdout",
     "output_type": "stream",
     "text": [
      "line 1\n",
      "line 2\n",
      "line 3\n",
      "line 4\n",
      "something went wrong\n",
      "line 5\n"
     ]
    }
   ],
   "source": [
    "print('line 1')\n",
    "print('line 2')\n",
    "print('line 3')\n",
    "print('line 4')\n",
    "try:\n",
    "     print(50/0)\n",
    "     print(name)\n",
    "except:\n",
    "    print('something went wrong')\n",
    "print('line 5')"
   ]
  },
  {
   "cell_type": "markdown",
   "metadata": {},
   "source": [
    "### else and finally block\n",
    "* **else block** is executed when no exception accurs i.e. try block is true\n",
    "* **finally block** is always ececuted.\n",
    "    - it is used to release the external resources"
   ]
  },
  {
   "cell_type": "code",
   "execution_count": 2,
   "metadata": {},
   "outputs": [
    {
     "name": "stdout",
     "output_type": "stream",
     "text": [
      "line 1\n",
      "line 2\n",
      "line 3\n",
      "line 4\n",
      "something went wrong\n",
      "finally block\n",
      "line 5\n"
     ]
    }
   ],
   "source": [
    "print('line 1')\n",
    "print('line 2')\n",
    "print('line 3')\n",
    "print('line 4')\n",
    "try:\n",
    "     print(50/0)\n",
    "     print(name)\n",
    "except:\n",
    "    print('something went wrong')\n",
    "else:\n",
    "    print('else block')\n",
    "finally:\n",
    "    print('finally block')\n",
    "print('line 5')"
   ]
  },
  {
   "cell_type": "markdown",
   "metadata": {},
   "source": [
    "## Rising Exception\n",
    "* An exception can be raised forcefully by using the raise clause in Python. It is useful in in that scenario where we need to raise an exception to stop the execution of the program.\n",
    "\n",
    "**Points to remember :** \n",
    "* To raise an exception, the raise statement is used. The exception class name follows it.\n",
    "* An exception can be provided with a value that can be given in the parenthesis.\n",
    "* To access the value \"as\" keyword is used. \"e\" is used as a reference variable which stores the value of the exception.\n",
    "* We can pass the value to an exception to specify the exception type."
   ]
  },
  {
   "cell_type": "code",
   "execution_count": 7,
   "metadata": {},
   "outputs": [
    {
     "ename": "ValueError",
     "evalue": "Your age is less than 18",
     "output_type": "error",
     "traceback": [
      "\u001b[1;31m---------------------------------------------------------------------------\u001b[0m",
      "\u001b[1;31mValueError\u001b[0m                                Traceback (most recent call last)",
      "Cell \u001b[1;32mIn[7], line 7\u001b[0m\n\u001b[0;32m      4\u001b[0m     \u001b[38;5;28;01melse\u001b[39;00m :\n\u001b[0;32m      5\u001b[0m         \u001b[38;5;28;01mraise\u001b[39;00m \u001b[38;5;167;01mValueError\u001b[39;00m(\u001b[38;5;124m'\u001b[39m\u001b[38;5;124mYour age is less than 18\u001b[39m\u001b[38;5;124m'\u001b[39m)\n\u001b[1;32m----> 7\u001b[0m \u001b[43mchecker\u001b[49m\u001b[43m(\u001b[49m\u001b[38;5;241;43m15\u001b[39;49m\u001b[43m)\u001b[49m\n",
      "Cell \u001b[1;32mIn[7], line 5\u001b[0m, in \u001b[0;36mchecker\u001b[1;34m(age)\u001b[0m\n\u001b[0;32m      3\u001b[0m     \u001b[38;5;28mprint\u001b[39m(\u001b[38;5;124m'\u001b[39m\u001b[38;5;124meligible to do anything\u001b[39m\u001b[38;5;124m'\u001b[39m)\n\u001b[0;32m      4\u001b[0m \u001b[38;5;28;01melse\u001b[39;00m :\n\u001b[1;32m----> 5\u001b[0m     \u001b[38;5;28;01mraise\u001b[39;00m \u001b[38;5;167;01mValueError\u001b[39;00m(\u001b[38;5;124m'\u001b[39m\u001b[38;5;124mYour age is less than 18\u001b[39m\u001b[38;5;124m'\u001b[39m)\n",
      "\u001b[1;31mValueError\u001b[0m: Your age is less than 18"
     ]
    }
   ],
   "source": [
    "def checker(age):\n",
    "    if age>=18:\n",
    "        print('eligible to do anything')\n",
    "    else :\n",
    "        raise ValueError('Your age is less than 18')\n",
    "\n",
    "checker(15)"
   ]
  },
  {
   "cell_type": "code",
   "execution_count": 10,
   "metadata": {},
   "outputs": [
    {
     "name": "stdout",
     "output_type": "stream",
     "text": [
      "something went wrong :  Your age is less than 18\n"
     ]
    }
   ],
   "source": [
    "def checker(age):\n",
    "    if age>=18:\n",
    "        print('eligible to do anything')\n",
    "    else :\n",
    "        raise ValueError('Your age is less than 18')\n",
    "\n",
    "try:\n",
    "    checker(15)\n",
    "except ValueError as v :\n",
    "    print('something went wrong : ',v)"
   ]
  }
 ],
 "metadata": {
  "kernelspec": {
   "display_name": "Python 3",
   "language": "python",
   "name": "python3"
  },
  "language_info": {
   "codemirror_mode": {
    "name": "ipython",
    "version": 3
   },
   "file_extension": ".py",
   "mimetype": "text/x-python",
   "name": "python",
   "nbconvert_exporter": "python",
   "pygments_lexer": "ipython3",
   "version": "3.12.0"
  }
 },
 "nbformat": 4,
 "nbformat_minor": 2
}
