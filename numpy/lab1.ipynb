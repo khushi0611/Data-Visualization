{
 "cells": [
  {
   "cell_type": "markdown",
   "metadata": {},
   "source": [
    "# Lab Assignment\n",
    "(7/26/2024)"
   ]
  },
  {
   "cell_type": "code",
   "execution_count": 5,
   "metadata": {},
   "outputs": [
    {
     "name": "stdout",
     "output_type": "stream",
     "text": [
      "my_list =  [1, 2, 3, 4, 5]\n",
      "Numpy array:  [1 2 3 4 5]\n"
     ]
    }
   ],
   "source": [
    "# Convert the below list into numpy array then display the array\n",
    "# input: my_list = [1,2,3,4,5]\n",
    "# Output: Numpy array: [1 2 3 4 5]\n",
    "\n",
    "import numpy as np\n",
    "my_list=[1,2,3,4,5]\n",
    "print('my_list = ',my_list)\n",
    "numpy_array=np.array(my_list)\n",
    "print('Numpy array: ',numpy_array)\n",
    " "
   ]
  },
  {
   "cell_type": "code",
   "execution_count": 6,
   "metadata": {},
   "outputs": [
    {
     "name": "stdout",
     "output_type": "stream",
     "text": [
      "my_list =  [1, 2, 3, 4, 5]\n",
      "First element:  1\n",
      "last element:  5\n",
      "Array after doubling each element:  [ 2  4  6  8 10]\n"
     ]
    }
   ],
   "source": [
    "#Convert the below list into a numpy array then display the array then display the first and last index and\n",
    "# then multiply each element by 2 and display the result\n",
    "\n",
    "# input: my_list = [1,2,3,4,5]\n",
    "# Output: \n",
    "# First element: 1\n",
    "# Last element: 5\n",
    "# Array after doubling each element:\n",
    "# [2 4 6 8 10] \n",
    "\n",
    "import numpy as np\n",
    "my_list=[1,2,3,4,5]\n",
    "print('my_list = ',my_list)\n",
    "\n",
    "numpy_array=np.array(my_list)\n",
    "print('First element: ',numpy_array[0])\n",
    "print('last element: ',numpy_array[len(numpy_array)-1])\n",
    "print('Array after doubling each element: ',numpy_array*2)"
   ]
  },
  {
   "cell_type": "code",
   "execution_count": 7,
   "metadata": {},
   "outputs": [],
   "source": [
    "# Write a NumPy program to create an array of 10 zeros, 10 ones, and 10 fives\n",
    "# Sample Output\n",
    "# An array of 10 zeros\n",
    "#     [0 0 0 0 0 0 0 0 0 0]\n",
    "# An array of 10 ones \n",
    "#     [1 1 1 1 1 1 1 1 1 1] \n",
    "# An array of 10 fives\n",
    "#     [5 5 5 5 5 5 5 5 5 5]\n",
    "\n"
   ]
  }
 ],
 "metadata": {
  "kernelspec": {
   "display_name": "Python 3",
   "language": "python",
   "name": "python3"
  },
  "language_info": {
   "codemirror_mode": {
    "name": "ipython",
    "version": 3
   },
   "file_extension": ".py",
   "mimetype": "text/x-python",
   "name": "python",
   "nbconvert_exporter": "python",
   "pygments_lexer": "ipython3",
   "version": "3.12.0"
  }
 },
 "nbformat": 4,
 "nbformat_minor": 2
}
