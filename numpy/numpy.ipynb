{
 "cells": [
  {
   "cell_type": "markdown",
   "metadata": {},
   "source": [
    "# Numpy\n",
    "\n",
    "NumPy, which stands for *\"Numerical Python,\"* is a popular Python library for numerical and scientific computing. It provides support for working with large, multi-dimensional arrays and matrices of data, along with a collection of mathematical functions to operate on these arrays.\n",
    "\n",
    "NumPy is a fundamental library for data manipulation and analysis in Python and is widely used in various fields such as data science, machine learning, scientific research, and engineering."
   ]
  },
  {
   "cell_type": "markdown",
   "metadata": {},
   "source": [
    "### ndim\n",
    "\n",
    "\n",
    "It is used to get the dimentions of the array"
   ]
  },
  {
   "cell_type": "code",
   "execution_count": 19,
   "metadata": {},
   "outputs": [
    {
     "name": "stdout",
     "output_type": "stream",
     "text": [
      "0\n",
      "1\n",
      "2\n"
     ]
    }
   ],
   "source": [
    "import numpy as ny\n",
    "\n",
    "a = ny.array(42)\n",
    "b = ny.array([1,2,3,4,5])\n",
    "c = ny.array([[1,2,3],[4,5,6]])\n",
    "\n",
    "# print(a)\n",
    "# print(b)\n",
    "# print(c)\n",
    "\n",
    "print(a.ndim)\n",
    "print(b.ndim)\n",
    "print(c.ndim)\n"
   ]
  },
  {
   "cell_type": "markdown",
   "metadata": {},
   "source": [
    "### shape\n",
    "\n",
    "It is used to get the shape of the array\n",
    "\n",
    "#### example:\n",
    "\n",
    "* The array array is a 3-dimensional array with dimensions 2x2x2.\n",
    "* The shape attribute will return (2, 2, 2).\n",
    "\n",
    "* This tuple (2, 2, 2) indicates:\n",
    "   - The first dimension has 2 elements.\n",
    "   - The second dimension has 2 elements.\n",
    "   - The third dimension has 2 elements."
   ]
  },
  {
   "cell_type": "code",
   "execution_count": 20,
   "metadata": {},
   "outputs": [
    {
     "name": "stdout",
     "output_type": "stream",
     "text": [
      "()\n",
      "(5,)\n",
      "(2, 3)\n",
      "(2, 2, 3)\n"
     ]
    }
   ],
   "source": [
    "import numpy as ny\n",
    "\n",
    "a = ny.array(42)\n",
    "b = ny.array([1,2,3,4,5])\n",
    "c = ny.array([[1,2,3],[4,5,6]])\n",
    "d = ny.array([[[1,2,3],[4,5,6]],[[1,2,3],[4,5,6]]])\n",
    "\n",
    "# print(a)\n",
    "# print(b)\n",
    "# print(c)\n",
    "# print(d)\n",
    "\n",
    "print(a.shape)\n",
    "print(b.shape)\n",
    "print(c.shape)\n",
    "print(d.shape)"
   ]
  },
  {
   "cell_type": "code",
   "execution_count": 21,
   "metadata": {},
   "outputs": [
    {
     "name": "stdout",
     "output_type": "stream",
     "text": [
      "[ True False  True]\n",
      "bool\n"
     ]
    }
   ],
   "source": [
    "import numpy as np\n",
    "arr=np.array([True,False,True],dtype=np.bool_)\n",
    "print(arr)\n",
    "print(arr.dtype)"
   ]
  },
  {
   "cell_type": "code",
   "execution_count": 22,
   "metadata": {},
   "outputs": [
    {
     "name": "stdout",
     "output_type": "stream",
     "text": [
      "[1 2.5 'y']\n",
      "object\n"
     ]
    }
   ],
   "source": [
    "import numpy as np\n",
    "arr=np.array([1,2.5,'y'],dtype=np.object_)\n",
    "print(arr)\n",
    "print(arr.dtype)"
   ]
  },
  {
   "cell_type": "markdown",
   "metadata": {},
   "source": [
    "### copy and view\n"
   ]
  },
  {
   "cell_type": "markdown",
   "metadata": {},
   "source": [
    "The **copy()** owns the data and any changes made to the copy will not affect original array, and any changes made to the original array will not affect the copy.\n",
    "\n",
    "\n"
   ]
  },
  {
   "cell_type": "code",
   "execution_count": 5,
   "metadata": {},
   "outputs": [
    {
     "name": "stdout",
     "output_type": "stream",
     "text": [
      "[10 20 30 40 50]\n",
      "[20 30 40]\n",
      "[ 10  20 100  40  50]\n",
      "[ 20 100  40]\n"
     ]
    }
   ],
   "source": [
    "import numpy as np\n",
    "arr= np.array([10,20,30,40,50])\n",
    "arr2=arr[1:4].view()\n",
    "print(arr)\n",
    "print(arr2)\n",
    "arr2[1]=100\n",
    "print(arr)\n",
    "print(arr2)\n"
   ]
  },
  {
   "cell_type": "markdown",
   "metadata": {},
   "source": [
    "The **view()** does not own the data and any changes made to the view will affect the original array, and any changes made to the original array will affect the view."
   ]
  },
  {
   "cell_type": "code",
   "execution_count": 7,
   "metadata": {},
   "outputs": [
    {
     "name": "stdout",
     "output_type": "stream",
     "text": [
      "[10 20 30 40 50]\n",
      "[20 30 40]\n",
      "[10 20 30 40 50]\n",
      "[ 20 100  40]\n"
     ]
    }
   ],
   "source": [
    "import numpy as np\n",
    "arr= np.array([10,20,30,40,50])\n",
    "arr2=arr[1:4].copy()\n",
    "print(arr)\n",
    "print(arr2)\n",
    "arr2[1]=100\n",
    "print(arr)\n",
    "print(arr2)\n"
   ]
  },
  {
   "cell_type": "markdown",
   "metadata": {},
   "source": []
  },
  {
   "cell_type": "code",
   "execution_count": 25,
   "metadata": {},
   "outputs": [
    {
     "name": "stdout",
     "output_type": "stream",
     "text": [
      "[[9 9 9]\n",
      " [9 9 9]\n",
      " [9 9 9]\n",
      " [9 9 9]\n",
      " [9 9 9]]\n",
      "\n",
      "[[10 10 10]\n",
      " [10 10 10]\n",
      " [10 10 10]\n",
      " [10 10 10]\n",
      " [10 10 10]]\n",
      "\n",
      "[[1 0 0]\n",
      " [0 1 0]\n",
      " [0 0 1]]\n",
      "\n",
      "[[3 0 0]\n",
      " [0 5 0]\n",
      " [0 0 7]]\n"
     ]
    }
   ],
   "source": [
    "import numpy as np\n",
    "arr=np.zeros((5,3),dtype=np.int_)+9\n",
    "print(arr)\n",
    "\n",
    "print(\"\")\n",
    "\n",
    "arr2=np.ones((5,3),dtype=np.int_)+9\n",
    "print(arr2)\n",
    "\n",
    "print(\"\")\n",
    "\n",
    "arr3=np.eye((3),dtype=np.int_)\n",
    "print(arr3)\n",
    "\n",
    "print(\"\")\n",
    "\n",
    "arr4=np.diag((3,5,7))\n",
    "print(arr4)\n",
    "\n",
    "rno = np.random.randint(0,10,8)\n",
    "print(rno)\n",
    "\n",
    "print(\"\")\n",
    "\n",
    "r = np.random.rand(2,3)\n",
    "print(r)\n"
   ]
  },
  {
   "cell_type": "markdown",
   "metadata": {},
   "source": [
    "### **reshape()**\n",
    "\n",
    "The **reshape()** function allows yo to change the dimensions of the array without changing its data.\n",
    "\n",
    "This can be useful when you want to rearrange the way data is organized in an array, such as converting a 1-dimensional array into a 2-dimensional matrix or vice versa, or changing the size of a multi-dimensional array while maintaining the total number of elements."
   ]
  },
  {
   "cell_type": "code",
   "execution_count": 27,
   "metadata": {},
   "outputs": [
    {
     "name": "stdout",
     "output_type": "stream",
     "text": [
      "[[10 20 30]\n",
      " [40 50 60]]\n",
      "[[[10]\n",
      "  [20]]\n",
      "\n",
      " [[30]\n",
      "  [40]]\n",
      "\n",
      " [[50]\n",
      "  [60]]]\n",
      "[[10 20 30]\n",
      " [40 50 60]]\n"
     ]
    }
   ],
   "source": [
    "import numpy as np\n",
    "\n",
    "arr = np.array([10,20,30,40,50,60])\n",
    "arr1 = arr.reshape(2,-1)\n",
    "arr2 = arr.reshape(-1,2,1)\n",
    "arr3 = arr.reshape(2,3)\n",
    "\n",
    "print(arr1)\n",
    "print(arr2)\n",
    "print(arr3)"
   ]
  },
  {
   "cell_type": "markdown",
   "metadata": {},
   "source": [
    "### **random.seed**"
   ]
  },
  {
   "cell_type": "code",
   "execution_count": 29,
   "metadata": {},
   "outputs": [
    {
     "name": "stdout",
     "output_type": "stream",
     "text": [
      "[[336 400 498 411 470 432]\n",
      " [495 249  79 207 175 370]\n",
      " [392 284  15 250  51 161]\n",
      " [477 260 327 322 378 146]\n",
      " [348 435 451 258 123 386]]\n",
      "[[ 15 250  51 161]\n",
      " [327 322 378 146]\n",
      " [451 258 123 386]]\n",
      "[[327 322]\n",
      " [451 258]]\n"
     ]
    }
   ],
   "source": [
    "import numpy as np\n",
    "\n",
    "np.random.seed(1323)\n",
    "randno = np.random.randint(1,500,30).reshape(5,6)\n",
    "print(randno)\n",
    "print(randno[2:,2:])\n",
    "print(randno[3:5,2:4])"
   ]
  },
  {
   "cell_type": "markdown",
   "metadata": {},
   "source": [
    "### **Slicing**"
   ]
  },
  {
   "cell_type": "code",
   "execution_count": 30,
   "metadata": {},
   "outputs": [
    {
     "name": "stdout",
     "output_type": "stream",
     "text": [
      "[4 5 6 7 8]\n",
      "[ 0  1  2  3  4  5  6  7  8  9 10]\n",
      "<class 'numpy.ndarray'>\n",
      "<class 'numpy.ndarray'>\n",
      "[0 0 0 0 0]\n",
      "[ 0  1  2  3  0  0  0  0  0  9 10]\n"
     ]
    }
   ],
   "source": [
    "import numpy as np\n",
    "arr=np.array([0,1,2,3,4,5,6,7,8,9,10])\n",
    "slicing=arr[4:9]\n",
    "print(slicing)\n",
    "print(arr)\n",
    "print(type(slicing))\n",
    "print(type(arr))\n",
    "slicing[:]=0\n",
    "print(slicing)\n",
    "print(arr)"
   ]
  },
  {
   "cell_type": "markdown",
   "metadata": {},
   "source": [
    "# Lab Assignment\n",
    "(25/07/2024)"
   ]
  },
  {
   "cell_type": "code",
   "execution_count": 11,
   "metadata": {},
   "outputs": [
    {
     "name": "stdout",
     "output_type": "stream",
     "text": [
      "[35 55 12 26 26 10 25 36 31 53 42 58 28 24 59 15 40 39 24 49 48 57 11 42\n",
      " 36 58 39 44 35 40]\n",
      "Days with index [ 1  7  9 10 11 14 16 17 19 20 21 23 24 25 26 27 29]  are hot\n",
      "Days with index [ 2  3  4  5  6  8 12 13 15 18 22]  are cold\n"
     ]
    }
   ],
   "source": [
    "#  Hi! I am new to Python numpy. Can you generate some real world situations where I can use a nilimpy array with some source code.\n",
    "\n",
    "import numpy as np\n",
    "\n",
    "\n",
    "sample_temperature = np.random.randint(10,60,30)\n",
    "print(sample_temperature)\n",
    "threshold = 35\n",
    "\n",
    "hot_days=np.where(sample_temperature>threshold)\n",
    "cold_days=np.where(sample_temperature<threshold)\n",
    "\n",
    "print('Days with index {}  are hot'.format(*hot_days))\n",
    "print('Days with index {}  are cold'.format(*cold_days))"
   ]
  },
  {
   "cell_type": "code",
   "execution_count": 10,
   "metadata": {},
   "outputs": [
    {
     "name": "stdout",
     "output_type": "stream",
     "text": [
      "Temperature data for a week :  [[57 36 20 22 26 54 25 44 25 52 31 41 51 16 24 45 46 41 29 23 42 55 30 25]\n",
      " [27 21 52 16 58 31 50 33 58 18 19 28 57 31 50 29 41 21 24 38 35 15 23 19]\n",
      " [35 55 12 26 26 10 25 36 31 53 42 58 28 24 59 15 40 39 24 49 48 57 11 42]\n",
      " [36 58 39 44 35 40 20 29 29 36 16 44 58 44 24 52 35 22 25 34 30 19 30 14]\n",
      " [18 54 56 17 28 36 12 54 52 59 14 15 49 51 40 57 37 48 50 47 13 39 59 49]\n",
      " [57 59 45 35 13 27 55 52 11 56 30 58 17 11 44 20 34 24 49 56 55 42 51 40]\n",
      " [24 44 50 11 11 52 19 59 44 13 27 43 15 57 52 23 27 43 20 48 38 14 43 14]]\n"
     ]
    }
   ],
   "source": [
    "# Hi! Let's create a real-life example involving weather data. Use NumPy to analyze temperature data for a week, \n",
    "# perform slicing, indexing, shaping, and reshaping operations, and calculate various statistics.\n",
    "\n",
    "# Slicing: Extract data for specific days and times.\n",
    "# Indexing: Access specific temperature values.\n",
    "# Shaping: Change the shape of the data.\n",
    "# Reshaping: Reshape the data for different analyses.\n",
    "import numpy as np\n",
    "\n",
    "np.random.seed(122)\n",
    "sample_temperature = np.random.randint(10,60,size=(7,24))\n",
    "print(\"Temperature data for a week : \",sample_temperature)\n",
    "\n",
    "print('Temperature in evening 4pm-7pm each day')\n"
   ]
  },
  {
   "cell_type": "markdown",
   "metadata": {},
   "source": [
    "### **arange()**"
   ]
  },
  {
   "cell_type": "code",
   "execution_count": 3,
   "metadata": {},
   "outputs": [
    {
     "name": "stdout",
     "output_type": "stream",
     "text": [
      "[1 2 3 4 5 6 7]\n",
      "[2 4 6]\n",
      "[1 3 5 7]\n",
      "[array([False, False, False, False, False, False, False])]\n",
      "[1 0 3 0 5 0 7]\n",
      "[3 4 5 6 7 8]\n",
      "[ 2  4  6  8 10 12]\n",
      "[ 1  4  9 16 25 36]\n"
     ]
    }
   ],
   "source": [
    "import numpy as np\n",
    "arr=np.arange(1,8)\n",
    "print(arr)\n",
    "print(arr[arr%2==0])\n",
    "print(arr[arr%2!=0])\n",
    "print([arr>8])\n",
    "arr[arr%2==0]=0\n",
    "print(arr)\n",
    "\n",
    "arr=np.arange(1,7)\n",
    "print(arr+2)\n",
    "print(arr*2)\n",
    "print(arr**2)\n",
    "\n"
   ]
  },
  {
   "cell_type": "markdown",
   "metadata": {},
   "source": [
    "**min() and max()** is used to return the minmum and maximum value espectively within the array\n",
    "\n",
    "**argmin() and argmax()** returns the index of minimum and maximum value respectively"
   ]
  },
  {
   "cell_type": "code",
   "execution_count": 12,
   "metadata": {},
   "outputs": [
    {
     "name": "stdout",
     "output_type": "stream",
     "text": [
      "2\n",
      "30\n",
      "5\n",
      "2\n",
      "[3.16227766 4.47213595 5.47722558 5.         2.44948974 1.41421356]\n",
      "[-0.54402111  0.91294525 -0.98803162 -0.13235175 -0.2794155   0.90929743]\n",
      "[-0.83907153  0.40808206  0.15425145  0.99120281  0.96017029 -0.41614684]\n"
     ]
    }
   ],
   "source": [
    "import numpy as np\n",
    "arr=np.array([10,20,30,25,6,2])\n",
    "print(np.min(arr))\n",
    "print(np.max(arr))\n",
    "print(np.argmin(arr))\n",
    "print(np.argmax(arr))\n",
    "print(np.sqrt(arr))\n",
    "print(np.sin(arr))\n",
    "print(np.cos(arr))"
   ]
  },
  {
   "cell_type": "markdown",
   "metadata": {},
   "source": [
    "### **sum() and cumsum()**"
   ]
  },
  {
   "cell_type": "code",
   "execution_count": 87,
   "metadata": {},
   "outputs": [
    {
     "name": "stdout",
     "output_type": "stream",
     "text": [
      "Original Array :  [[16 11 13]\n",
      " [17 13 16]\n",
      " [ 3 16 11]]\n",
      "116\n",
      "[ 16  27  40  57  70  86  89 105 116]\n",
      "3\n",
      "17\n",
      "-------------\n",
      "[40 46 30]\n",
      "[11 13  3]\n",
      "[16 17 16]\n",
      "[[16 27 40]\n",
      " [17 30 46]\n",
      " [ 3 19 30]]\n"
     ]
    }
   ],
   "source": [
    "import numpy as np\n",
    "np.random.seed(122)\n",
    "arr=np.random.randint(1,21,9).reshape(3,3)\n",
    "print('Original Array : ',arr)\n",
    "print(np.sum(arr))\n",
    "print(np.cumsum(arr))\n",
    "print(np.min(arr))\n",
    "print(np.max(arr))\n",
    "print('-------------')\n",
    "print(np.sum(arr,axis=1))\n",
    "print(np.min(arr,axis=1))\n",
    "print(np.max(arr,axis=1))\n",
    "print(np.cumsum(arr,axis=1))"
   ]
  },
  {
   "cell_type": "markdown",
   "metadata": {},
   "source": [
    "#### Implementation of *cumsum()* using user defined function "
   ]
  },
  {
   "cell_type": "code",
   "execution_count": 21,
   "metadata": {},
   "outputs": [
    {
     "name": "stdout",
     "output_type": "stream",
     "text": [
      "[[16 11 13 17 13]\n",
      " [16  3 16 11 10]\n",
      " [ 7 15  4  5 20]]\n",
      "Custom cumulative sum array:\n",
      "[[16 27 40 57 70]\n",
      " [16 19 35 46 56]\n",
      " [ 7 22 26 31 51]]\n"
     ]
    }
   ],
   "source": [
    "import numpy as np\n",
    "np.random.seed(122)\n",
    "arr=np.random.randint(1,21,15).reshape(3,-1)\n",
    "print(arr)\n",
    "rows, columns = arr.shape\n",
    "def custom_cumsum(arr): \n",
    "    final=[]\n",
    "    cumsum=0\n",
    "    for i in range(rows):\n",
    "       for j in range(columns):\n",
    "            cumsum += arr[i][j]\n",
    "            final.append(cumsum) \n",
    "       cumsum=0\n",
    "    final=np.array(final).reshape(3,-1)\n",
    "    return(final)\n",
    "\n",
    "result = custom_cumsum(arr)\n",
    "print(\"Custom cumulative sum array:\")\n",
    "print(np.array2string(result, separator=' '))\n"
   ]
  },
  {
   "cell_type": "markdown",
   "metadata": {},
   "source": [
    "### **unique()**"
   ]
  },
  {
   "cell_type": "code",
   "execution_count": 44,
   "metadata": {},
   "outputs": [
    {
     "name": "stdout",
     "output_type": "stream",
     "text": [
      "[16 11 13 17 13 16  3 16 11 10]\n",
      "[13 16 16 11 16 10 11 13 17  3]\n",
      "(array([ 3, 10, 11, 13, 16, 17]), array([9, 5, 3, 0, 1, 8], dtype=int64), array([1, 1, 2, 2, 3, 1], dtype=int64))\n",
      "6\n"
     ]
    }
   ],
   "source": [
    "import numpy as np\n",
    "np.random.seed(122)\n",
    "arr=np.random.randint(1,21,10)\n",
    "print(arr)\n",
    "np.random.shuffle(arr)\n",
    "print(arr)\n",
    "\n",
    "print(np.unique(arr,return_index=True,return_counts=True))\n",
    "print(np.unique(arr).size)\n"
   ]
  },
  {
   "cell_type": "markdown",
   "metadata": {},
   "source": [
    "### **vstack and hstack**"
   ]
  },
  {
   "cell_type": "code",
   "execution_count": 52,
   "metadata": {},
   "outputs": [
    {
     "name": "stdout",
     "output_type": "stream",
     "text": [
      "[10 20 30 40]\n",
      "[50 60 70 80]\n",
      "[[10 20 30 40]\n",
      " [50 60 70 80]]\n",
      "[10 20 30 40 50 60 70 80]\n",
      "-----------------------------\n",
      "[[16 11 13]\n",
      " [17 13 16]\n",
      " [ 3 16 11]]\n",
      "[[71 59 56]\n",
      " [64 53 54]\n",
      " [69 69 63]]\n",
      "[[16 11 13]\n",
      " [17 13 16]\n",
      " [ 3 16 11]\n",
      " [71 59 56]\n",
      " [64 53 54]\n",
      " [69 69 63]]\n",
      "[[16 11 13 71 59 56]\n",
      " [17 13 16 64 53 54]\n",
      " [ 3 16 11 69 69 63]]\n"
     ]
    }
   ],
   "source": [
    "import numpy as np\n",
    "arr1=np.array([10,20,30,40])\n",
    "arr2=np.array([50,60,70,80])\n",
    "print(arr1)\n",
    "print(arr2)\n",
    "print(np.vstack((arr1,arr2)))\n",
    "print(np.hstack((arr1,arr2)))\n",
    "\n",
    "print('-----------------------------')\n",
    "\n",
    "np.random.seed(122)\n",
    "arr1=np.random.randint(1,21,9).reshape(3,3)\n",
    "arr2=np.random.randint(50,80,9).reshape(3,3)\n",
    "print(arr1)\n",
    "print(arr2)\n",
    "print(np.vstack((arr1,arr2)))\n",
    "print(np.hstack((arr1,arr2)))"
   ]
  },
  {
   "cell_type": "markdown",
   "metadata": {},
   "source": [
    "### **searchsorted()**"
   ]
  },
  {
   "cell_type": "code",
   "execution_count": 62,
   "metadata": {},
   "outputs": [
    {
     "name": "stdout",
     "output_type": "stream",
     "text": [
      "8\n"
     ]
    }
   ],
   "source": [
    "arr=np.array([10,20,30,40,50,60,70,80,90])\n",
    "ss=np.searchsorted(arr,90)\n",
    "print(ss)"
   ]
  }
 ],
 "metadata": {
  "kernelspec": {
   "display_name": "Python 3",
   "language": "python",
   "name": "python3"
  },
  "language_info": {
   "codemirror_mode": {
    "name": "ipython",
    "version": 3
   },
   "file_extension": ".py",
   "mimetype": "text/x-python",
   "name": "python",
   "nbconvert_exporter": "python",
   "pygments_lexer": "ipython3",
   "version": "3.12.0"
  }
 },
 "nbformat": 4,
 "nbformat_minor": 2
}
